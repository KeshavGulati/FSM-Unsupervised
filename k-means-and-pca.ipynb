{
 "cells": [
  {
   "attachments": {},
   "cell_type": "markdown",
   "metadata": {},
   "source": [
    "# Unsupervised Learning"
   ]
  },
  {
   "attachments": {},
   "cell_type": "markdown",
   "metadata": {},
   "source": [
    "## K-Means Clustering"
   ]
  },
  {
   "attachments": {},
   "cell_type": "markdown",
   "metadata": {},
   "source": [
    "K-Means Clustering is an unsupervised learning algorithm, which works by grouping similar datapoints together. The algorithm is:\n",
    "1. Assign 'k' cluster centroids randomly\n",
    "2. Update cluster labels- assign points to the nearest centroid\n",
    "3. Update centroids- set center to the mean of each cluster\n",
    "Steps 3 and 4 are repeated until either centroids reach convergence, i.e., they cannot be moved furtherm, the maximum number of iterations has been reached."
   ]
  },
  {
   "cell_type": "code",
   "execution_count": 51,
   "metadata": {},
   "outputs": [],
   "source": [
    "import pandas as pd\n",
    "import numpy as np\n",
    "import random as rand\n",
    "import matplotlib.pyplot as plt\n",
    "from scipy.optimize import linear_sum_assignment"
   ]
  },
  {
   "cell_type": "code",
   "execution_count": 52,
   "metadata": {},
   "outputs": [],
   "source": [
    "def rotate(input_list):\n",
    "    curr, prev = 0, 0\n",
    "    if len(input_list) == 0:\n",
    "        return input_list\n",
    "    for index, el in enumerate(input_list):\n",
    "        if index == 0:\n",
    "            prev = el\n",
    "        else:\n",
    "            curr = el\n",
    "            input_list[index] = prev\n",
    "            prev = curr\n",
    "    input_list[0] = curr\n",
    "    return input_list\n",
    "        "
   ]
  },
  {
   "cell_type": "code",
   "execution_count": 53,
   "metadata": {},
   "outputs": [
    {
     "name": "stdout",
     "output_type": "stream",
     "text": [
      "list1 = [4, 1, 2, 3]\n"
     ]
    }
   ],
   "source": [
    "list1 = [1, 2, 3, 4]\n",
    "rotate(list1)\n",
    "print(f\"list1 = {list1}\")"
   ]
  },
  {
   "cell_type": "code",
   "execution_count": 88,
   "metadata": {},
   "outputs": [],
   "source": [
    "class KMeans():\n",
    "    \"\"\"Unsupervised machine learning algorithm which groups 'k' similar datapoints.\"\"\"\n",
    "\n",
    "    def __init__(self, k = 3, max_iter = 1000):\n",
    "        \"\"\"\n",
    "        Constructor\n",
    "        # Parameters\n",
    "            k: default is 3\n",
    "            max_iter: default is 1000\n",
    "        \"\"\"\n",
    "        self.k = k\n",
    "        self.max_iter = max_iter\n",
    "        self.centroids = []\n",
    "        self.clusters = [[] for _ in range(k)]\n",
    "        self.x_size, self.num_features = 0, 0\n",
    "\n",
    "    def predict(self, x_test):\n",
    "        \"\"\"\n",
    "        This method predicts the clusters based on similarity.\n",
    "        # Parameters\n",
    "            x_test: Test data\n",
    "\n",
    "        # Returns\n",
    "            List of list of rows rows, where the index of lists at the second level indicates the cluster group.\n",
    "            So, for return value [[row1, row2, row3], [row4, row5, row6]]],\n",
    "            rows 1, 2, and 3 belong to cluster 0, and rows 4, 5, and 6 belong to cluster 1.\n",
    "        \"\"\"\n",
    "        self.X = x_test\n",
    "        converged = False\n",
    "        #converting into appropriate format\n",
    "        x_np = x_test.to_numpy()\n",
    "        self.x_size, self.num_features = np.shape(x_np)\n",
    "        #create random centroids\n",
    "        random_sample_idxs = np.random.choice(self.x_size, self.k, replace = False)\n",
    "        self.centroids = np.asarray([x_np[i] for i in random_sample_idxs])\n",
    "\n",
    "        i = 1\n",
    "        while (not converged and i < self.max_iter):\n",
    "            # update cluster labels\n",
    "            self.clusters = [[] for _ in range(self.k)]\n",
    "            for j in range(len(x_np)):\n",
    "                dist_arr = self.get_distance(x_np[j])\n",
    "                self.clusters[np.argmin(dist_arr)].append(x_np[j])\n",
    "\n",
    "            # update centroids\n",
    "            old_centroids = self.centroids\n",
    "            centroids = np.zeros((self.k, self.num_features))\n",
    "            for idx, cluster in enumerate(self.clusters):\n",
    "                cluster_mean = np.mean(x_np[idx], axis = 0)\n",
    "                centroids[idx] = cluster_mean\n",
    "            converged = (old_centroids == centroids.all).all()\n",
    "            i += 1\n",
    "        return self.clusters\n",
    "\n",
    "\n",
    "    def get_distance(self, point):\n",
    "        \"\"\"Gets distance between two points. Used to assign points to the nearest centroid.\"\"\"\n",
    "        to_return = []\n",
    "        dist = lambda x, y: np.sqrt(np.sum((x - y)**2))\n",
    "        for centroid in self.centroids:\n",
    "            to_return.append(dist(centroid, point))\n",
    "        # return np.ndarray(to_return)\n",
    "        return np.asarray(to_return, dtype = np.float32)\n",
    "    \n",
    "    def plot(self):\n",
    "        \"\"\"Plots the clusters. Plotting is done between the index of the rows of each row in a cluster and the cluster number.\n",
    "        Can be compared with a plot between index number of row and label to check accuracy.\"\"\"\n",
    "        x = []\n",
    "        y = []\n",
    "        for i, cluster in enumerate(self.clusters):\n",
    "            for j, datapoint in enumerate(cluster):\n",
    "                matching_rows_index = np.where(np.all(self.X.values == datapoint, axis = 1))\n",
    "                x.append(matching_rows_index[0][0])\n",
    "                y.append(int(i))\n",
    "        plt.scatter(x, y)\n",
    "        plt.xlabel(\"Index\")\n",
    "        plt.ylabel(\"Cluster\")\n",
    "        plt.show()\n",
    "    "
   ]
  },
  {
   "attachments": {},
   "cell_type": "markdown",
   "metadata": {},
   "source": [
    "## Principal Component Analysis"
   ]
  },
  {
   "attachments": {},
   "cell_type": "markdown",
   "metadata": {},
   "source": [
    "### Theory"
   ]
  },
  {
   "attachments": {},
   "cell_type": "markdown",
   "metadata": {},
   "source": [
    "Principal Component Analysis (PCA) is an unsupervised machine learning algorithm, which has applications in dimensionality reduction of data. PCA is used for feature extraction by condensing the data into lesser dimensions while preserving as much information of the original data as possible. Such reduction helps to prevent the model from overfitting on the training data, and can also enable us to visualize it. \n",
    "\n",
    "<!-- **Math** -->\n",
    "#### Math\n",
    "<!-- <br> -->\n",
    "PCA works by first projecting the datapoints onto a unit vector, and then choosing whichever vector captures the highest variance as the principal component.\n",
    "$$\n",
    "    Proj_{p}u = {P.u} \\over ||u||\n",
    "$$\n",
    "Since $u$ is a unit vector, $||u||$ is equal to 1. So, the equation becomes,\n",
    "$$\n",
    "    Proj_{p}u = {P.u}\n",
    "$$\n",
    "Hence, to get the projection of a point on a unit vector, we just calculate the dot product between the two.\n",
    "<br>\n",
    "<!-- <br> -->\n",
    "<!-- **Working** -->\n",
    "#### Working\n",
    "<!-- <br> -->\n",
    "We first find the covariance matrix between all attributes, and then find eigenvectors and eigenvalues from this vector. The eigenvectors with the maximum eigenvalues will be the principal components. Then, to project all datapoints on the principal components, we take the dot product of the datapoints with the components."
   ]
  },
  {
   "attachments": {},
   "cell_type": "markdown",
   "metadata": {},
   "source": [
    "### Implementation"
   ]
  },
  {
   "cell_type": "code",
   "execution_count": 55,
   "metadata": {},
   "outputs": [],
   "source": [
    "import pandas as pd\n",
    "import numpy as np\n",
    "import matplotlib.pyplot as plt"
   ]
  },
  {
   "cell_type": "code",
   "execution_count": 56,
   "metadata": {},
   "outputs": [],
   "source": [
    "class PCA:\n",
    "\n",
    "    def __init__(self, num_components):\n",
    "        self.num_components = num_components\n",
    "        self.eigenvalues = None\n",
    "        self.eigenvectors = None\n",
    "        self.X = None\n",
    "\n",
    "    def fit(self, x_train):\n",
    "        self.X = x_train\n",
    "        self.mean = np.mean(x_train, axis = 0)\n",
    "        self.X -= self.mean\n",
    "        cov = np.cov(self.X.T)\n",
    "        eigenvectors, eigenvalues = np.linalg.eig(cov)\n",
    "        eigenvectors = eigenvectors.T\n",
    "        idxs = np.argsort(eigenvalues)[::-1]\n",
    "        eigenvalues = eigenvalues[idxs]\n",
    "        eigenvectors = eigenvectors[idxs]\n",
    "        self.components = eigenvectors[:self.num_components]\n",
    "\n",
    "    def transform(self):\n",
    "        return np.dot(self.X, self.components.T)"
   ]
  },
  {
   "attachments": {},
   "cell_type": "markdown",
   "metadata": {},
   "source": [
    "## Example Dataset"
   ]
  },
  {
   "cell_type": "code",
   "execution_count": 57,
   "metadata": {},
   "outputs": [
    {
     "data": {
      "text/html": [
       "<div>\n",
       "<style scoped>\n",
       "    .dataframe tbody tr th:only-of-type {\n",
       "        vertical-align: middle;\n",
       "    }\n",
       "\n",
       "    .dataframe tbody tr th {\n",
       "        vertical-align: top;\n",
       "    }\n",
       "\n",
       "    .dataframe thead th {\n",
       "        text-align: right;\n",
       "    }\n",
       "</style>\n",
       "<table border=\"1\" class=\"dataframe\">\n",
       "  <thead>\n",
       "    <tr style=\"text-align: right;\">\n",
       "      <th></th>\n",
       "      <th>Id</th>\n",
       "      <th>SepalLengthCm</th>\n",
       "      <th>SepalWidthCm</th>\n",
       "      <th>PetalLengthCm</th>\n",
       "      <th>PetalWidthCm</th>\n",
       "      <th>Species</th>\n",
       "    </tr>\n",
       "  </thead>\n",
       "  <tbody>\n",
       "    <tr>\n",
       "      <th>0</th>\n",
       "      <td>1</td>\n",
       "      <td>5.1</td>\n",
       "      <td>3.5</td>\n",
       "      <td>1.4</td>\n",
       "      <td>0.2</td>\n",
       "      <td>Iris-setosa</td>\n",
       "    </tr>\n",
       "    <tr>\n",
       "      <th>1</th>\n",
       "      <td>2</td>\n",
       "      <td>4.9</td>\n",
       "      <td>3.0</td>\n",
       "      <td>1.4</td>\n",
       "      <td>0.2</td>\n",
       "      <td>Iris-setosa</td>\n",
       "    </tr>\n",
       "    <tr>\n",
       "      <th>2</th>\n",
       "      <td>3</td>\n",
       "      <td>4.7</td>\n",
       "      <td>3.2</td>\n",
       "      <td>1.3</td>\n",
       "      <td>0.2</td>\n",
       "      <td>Iris-setosa</td>\n",
       "    </tr>\n",
       "    <tr>\n",
       "      <th>3</th>\n",
       "      <td>4</td>\n",
       "      <td>4.6</td>\n",
       "      <td>3.1</td>\n",
       "      <td>1.5</td>\n",
       "      <td>0.2</td>\n",
       "      <td>Iris-setosa</td>\n",
       "    </tr>\n",
       "    <tr>\n",
       "      <th>4</th>\n",
       "      <td>5</td>\n",
       "      <td>5.0</td>\n",
       "      <td>3.6</td>\n",
       "      <td>1.4</td>\n",
       "      <td>0.2</td>\n",
       "      <td>Iris-setosa</td>\n",
       "    </tr>\n",
       "  </tbody>\n",
       "</table>\n",
       "</div>"
      ],
      "text/plain": [
       "   Id  SepalLengthCm  SepalWidthCm  PetalLengthCm  PetalWidthCm      Species\n",
       "0   1            5.1           3.5            1.4           0.2  Iris-setosa\n",
       "1   2            4.9           3.0            1.4           0.2  Iris-setosa\n",
       "2   3            4.7           3.2            1.3           0.2  Iris-setosa\n",
       "3   4            4.6           3.1            1.5           0.2  Iris-setosa\n",
       "4   5            5.0           3.6            1.4           0.2  Iris-setosa"
      ]
     },
     "execution_count": 57,
     "metadata": {},
     "output_type": "execute_result"
    }
   ],
   "source": [
    "df = pd.read_csv('./Iris Dataset.csv')\n",
    "df.head()"
   ]
  },
  {
   "cell_type": "code",
   "execution_count": 58,
   "metadata": {},
   "outputs": [
    {
     "data": {
      "text/plain": [
       "<Axes: >"
      ]
     },
     "execution_count": 58,
     "metadata": {},
     "output_type": "execute_result"
    },
    {
     "data": {
      "image/png": "[encoded data removed]",
      "text/plain": [
       "<Figure size 640x480 with 1 Axes>"
      ]
     },
     "metadata": {},
     "output_type": "display_data"
    }
   ],
   "source": [
    "df['SepalLengthCm'].hist()"
   ]
  },
  {
   "cell_type": "code",
   "execution_count": 59,
   "metadata": {},
   "outputs": [
    {
     "data": {
      "text/plain": [
       "<Axes: >"
      ]
     },
     "execution_count": 59,
     "metadata": {},
     "output_type": "execute_result"
    },
    {
     "data": {
      "image/png": "[encoded data removed]",
      "text/plain": [
       "<Figure size 640x480 with 1 Axes>"
      ]
     },
     "metadata": {},
     "output_type": "display_data"
    }
   ],
   "source": [
    "df['PetalLengthCm'].hist()"
   ]
  },
  {
   "cell_type": "code",
   "execution_count": 60,
   "metadata": {},
   "outputs": [
    {
     "data": {
      "text/plain": [
       "<Axes: >"
      ]
     },
     "execution_count": 60,
     "metadata": {},
     "output_type": "execute_result"
    },
    {
     "data": {
      "image/png": "[encoded data removed]",
      "text/plain": [
       "<Figure size 640x480 with 1 Axes>"
      ]
     },
     "metadata": {},
     "output_type": "display_data"
    }
   ],
   "source": [
    "df['PetalWidthCm'].hist()"
   ]
  },
  {
   "cell_type": "code",
   "execution_count": 61,
   "metadata": {},
   "outputs": [
    {
     "data": {
      "text/plain": [
       "<Axes: >"
      ]
     },
     "execution_count": 61,
     "metadata": {},
     "output_type": "execute_result"
    },
    {
     "data": {
      "image/png": "[encoded data removed]",
      "text/plain": [
       "<Figure size 640x480 with 1 Axes>"
      ]
     },
     "metadata": {},
     "output_type": "display_data"
    }
   ],
   "source": [
    "df['SepalWidthCm'].hist()"
   ]
  },
  {
   "attachments": {},
   "cell_type": "markdown",
   "metadata": {},
   "source": [
    "Removing the 'Species' column and storing it for later comparison."
   ]
  },
  {
   "cell_type": "code",
   "execution_count": 62,
   "metadata": {},
   "outputs": [],
   "source": [
    "y_test = df['Species']\n",
    "x_train = df.drop(['Species'], axis = 1)"
   ]
  },
  {
   "attachments": {},
   "cell_type": "markdown",
   "metadata": {},
   "source": [
    "### Testing K-Means"
   ]
  },
  {
   "cell_type": "code",
   "execution_count": 87,
   "metadata": {},
   "outputs": [
    {
     "data": {
      "text/html": [
       "<div>\n",
       "<style scoped>\n",
       "    .dataframe tbody tr th:only-of-type {\n",
       "        vertical-align: middle;\n",
       "    }\n",
       "\n",
       "    .dataframe tbody tr th {\n",
       "        vertical-align: top;\n",
       "    }\n",
       "\n",
       "    .dataframe thead th {\n",
       "        text-align: right;\n",
       "    }\n",
       "</style>\n",
       "<table border=\"1\" class=\"dataframe\">\n",
       "  <thead>\n",
       "    <tr style=\"text-align: right;\">\n",
       "      <th></th>\n",
       "      <th>Id</th>\n",
       "      <th>SepalLengthCm</th>\n",
       "      <th>SepalWidthCm</th>\n",
       "      <th>PetalLengthCm</th>\n",
       "      <th>PetalWidthCm</th>\n",
       "    </tr>\n",
       "  </thead>\n",
       "  <tbody>\n",
       "    <tr>\n",
       "      <th>0</th>\n",
       "      <td>1</td>\n",
       "      <td>5.1</td>\n",
       "      <td>3.5</td>\n",
       "      <td>1.4</td>\n",
       "      <td>0.2</td>\n",
       "    </tr>\n",
       "    <tr>\n",
       "      <th>1</th>\n",
       "      <td>2</td>\n",
       "      <td>4.9</td>\n",
       "      <td>3.0</td>\n",
       "      <td>1.4</td>\n",
       "      <td>0.2</td>\n",
       "    </tr>\n",
       "    <tr>\n",
       "      <th>2</th>\n",
       "      <td>3</td>\n",
       "      <td>4.7</td>\n",
       "      <td>3.2</td>\n",
       "      <td>1.3</td>\n",
       "      <td>0.2</td>\n",
       "    </tr>\n",
       "    <tr>\n",
       "      <th>3</th>\n",
       "      <td>4</td>\n",
       "      <td>4.6</td>\n",
       "      <td>3.1</td>\n",
       "      <td>1.5</td>\n",
       "      <td>0.2</td>\n",
       "    </tr>\n",
       "    <tr>\n",
       "      <th>4</th>\n",
       "      <td>5</td>\n",
       "      <td>5.0</td>\n",
       "      <td>3.6</td>\n",
       "      <td>1.4</td>\n",
       "      <td>0.2</td>\n",
       "    </tr>\n",
       "  </tbody>\n",
       "</table>\n",
       "</div>"
      ],
      "text/plain": [
       "   Id  SepalLengthCm  SepalWidthCm  PetalLengthCm  PetalWidthCm\n",
       "0   1            5.1           3.5            1.4           0.2\n",
       "1   2            4.9           3.0            1.4           0.2\n",
       "2   3            4.7           3.2            1.3           0.2\n",
       "3   4            4.6           3.1            1.5           0.2\n",
       "4   5            5.0           3.6            1.4           0.2"
      ]
     },
     "execution_count": 87,
     "metadata": {},
     "output_type": "execute_result"
    }
   ],
   "source": [
    "x_train.head()"
   ]
  },
  {
   "cell_type": "code",
   "execution_count": 98,
   "metadata": {},
   "outputs": [],
   "source": [
    "k_means = KMeans()\n",
    "k_means.predict(x_train);"
   ]
  },
  {
   "cell_type": "code",
   "execution_count": 99,
   "metadata": {},
   "outputs": [
    {
     "data": {
      "image/png": "[encoded data removed]",
      "text/plain": [
       "<Figure size 640x480 with 1 Axes>"
      ]
     },
     "metadata": {},
     "output_type": "display_data"
    }
   ],
   "source": [
    "k_means.plot()"
   ]
  },
  {
   "cell_type": "code",
   "execution_count": 100,
   "metadata": {},
   "outputs": [
    {
     "data": {
      "text/plain": [
       "Text(0, 0.5, 'Index')"
      ]
     },
     "execution_count": 100,
     "metadata": {},
     "output_type": "execute_result"
    },
    {
     "data": {
      "image/png": "[encoded data removed]",
      "text/plain": [
       "<Figure size 640x480 with 1 Axes>"
      ]
     },
     "metadata": {},
     "output_type": "display_data"
    }
   ],
   "source": [
    "plt.scatter(x_train.index, y_test)\n",
    "plt.xlabel(\"Species\")\n",
    "plt.ylabel(\"Index\")"
   ]
  },
  {
   "attachments": {},
   "cell_type": "markdown",
   "metadata": {},
   "source": [
    "Here, we can clearly see that our model clusters the data well, as most point belonging to a particular species are clustered in the same group.\n",
    "<br>\n",
    "In this case, cluster 0 corresponds to Iris-versicolor, cluster 1 corresponds to Iris-setosa, and cluster 2 corresponds to Iris-virginica."
   ]
  },
  {
   "attachments": {},
   "cell_type": "markdown",
   "metadata": {},
   "source": [
    "### Testing PCA"
   ]
  },
  {
   "attachments": {},
   "cell_type": "markdown",
   "metadata": {},
   "source": [
    "Creating a new PCA object and training and transforming the data."
   ]
  },
  {
   "cell_type": "code",
   "execution_count": null,
   "metadata": {},
   "outputs": [],
   "source": [
    "pca = PCA(2)\n",
    "pca.fit(x_train)\n",
    "x_new = pca.transform()"
   ]
  },
  {
   "cell_type": "code",
   "execution_count": null,
   "metadata": {},
   "outputs": [
    {
     "name": "stdout",
     "output_type": "stream",
     "text": [
      "Shape of original data: (150, 5)\n",
      "Shape of new data: (150, 2)\n"
     ]
    }
   ],
   "source": [
    "print(f\"Shape of original data: {x_train.shape}\\nShape of new data: {x_new.shape}\")"
   ]
  },
  {
   "cell_type": "code",
   "execution_count": null,
   "metadata": {},
   "outputs": [
    {
     "data": {
      "image/png": "[encoded data removed]",
      "text/plain": [
       "<Figure size 2000x800 with 1 Axes>"
      ]
     },
     "metadata": {},
     "output_type": "display_data"
    }
   ],
   "source": [
    "plt.figure(figsize = (20, 8))\n",
    "plt.plot(x_new[0], x_new[1])\n",
    "plt.show()"
   ]
  },
  {
   "attachments": {},
   "cell_type": "markdown",
   "metadata": {},
   "source": [
    "We can see that the original dataset had a sample size of 150 samples and 5 attributes, whereas after the PCA, the dataset has the same number of samples but only 2 attributes.\n",
    "<br>\n",
    "Hence, using PCA, we have successfully reduced the number of dimensions of the dataset."
   ]
  },
  {
   "cell_type": "code",
   "execution_count": null,
   "metadata": {},
   "outputs": [],
   "source": []
  }
 ],
 "metadata": {
  "kernelspec": {
   "display_name": "Python 3",
   "language": "python",
   "name": "python3"
  },
  "language_info": {
   "codemirror_mode": {
    "name": "ipython",
    "version": 3
   },
   "file_extension": ".py",
   "mimetype": "text/x-python",
   "name": "python",
   "nbconvert_exporter": "python",
   "pygments_lexer": "ipython3",
   "version": "3.9.2"
  },
  "orig_nbformat": 4
 },
 "nbformat": 4,
 "nbformat_minor": 2
}
